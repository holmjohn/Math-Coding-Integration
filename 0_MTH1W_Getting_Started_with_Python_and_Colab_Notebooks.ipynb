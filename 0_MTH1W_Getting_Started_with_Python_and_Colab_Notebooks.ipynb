{
  "cells": [
    {
      "cell_type": "markdown",
      "metadata": {
        "id": "W-Rs4KP3D6PS"
      },
      "source": [
        "## Coding in MTH1W <img src=\"https://i.imgur.com/qUSxW7s.png\" height=45 width=45 align=right>\n",
        "\n",
        "\n",
        "---\n",
        "\n",
        "\n",
        "#Getting Started With\n",
        "![Pythonbanner.PNG](https://www.python.org/static/img/python-logo@2x.png)\n",
        "\n",
        "---\n",
        "\n",
        "# Using Jupyter Notebooks in MS Teams\n",
        "\n",
        "Welcome to Jupyter Notebooks! You can think of Jupyter Notebooks as being like a **digital notebook** that you can use to run, test, and write your own Python code. See the example below:\n"
      ]
    },
    {
      "cell_type": "code",
      "execution_count": null,
      "metadata": {
        "id": "N1icbGmjQpML"
      },
      "outputs": [],
      "source": [
        "# Welcome to the first code block! In Python, we use comments in code to explain what the code is doing.\n",
        "# This is an example of a comment!\n",
        "# Hover over this text and press the grey \"play\" button to the left of this block to run the code.\n",
        "\n",
        "print(\"Hello World!\")"
      ]
    },
    {
      "cell_type": "markdown",
      "metadata": {
        "id": "IYPZeKGAQ_AZ"
      },
      "source": [
        "After pressing the play button above, You will have noticed the text \"Hello World!\" appeared. This is a result of **running** the code.\n",
        "\n",
        "#Try typing ``` print(\"Hello World!\") ``` in the code block below. When you're done, press the play button again to make sure it works!\n",
        "\n"
      ]
    },
    {
      "cell_type": "code",
      "execution_count": null,
      "metadata": {
        "id": "674XMd2l72OF"
      },
      "outputs": [],
      "source": []
    },
    {
      "cell_type": "markdown",
      "metadata": {
        "id": "eVs-WTJe8ANN"
      },
      "source": [
        "**Congratulations!** 🎉 You just ran your first Python program! \n",
        "\n",
        "You are ready to move on to the next activity: **1. Introduction to Variables and BEDMAS in Python**"
      ]
    }
  ],
  "metadata": {
    "colab": {
      "provenance": []
    },
    "kernelspec": {
      "display_name": "Python 3",
      "name": "python3"
    },
    "language_info": {
      "name": "python"
    }
  },
  "nbformat": 4,
  "nbformat_minor": 0
}